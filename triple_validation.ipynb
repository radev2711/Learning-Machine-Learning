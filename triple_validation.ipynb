{
 "cells": [
  {
   "cell_type": "markdown",
   "metadata": {},
   "source": [
    "# Triple validation with SVM and Naive Bayes"
   ]
  },
  {
   "cell_type": "markdown",
   "metadata": {},
   "source": [
    "### Introduction\n",
    "\n",
    "This notebook contains an continuation on effort to extract RDF triples from raw text and focuses on the next step in the process - validation of the extracted triples.\n",
    "\n",
    "#### Triples\n",
    "\n",
    "#### Naive Bayes\n",
    "\n",
    "#### Support Vector Machines"
   ]
  },
  {
   "cell_type": "markdown",
   "metadata": {},
   "source": [
    "### Triple Validation\n",
    "\n",
    "#### Data\n",
    "\n",
    "The data consists of an csv file containig output from method extracting triples from raw text. The labels are manually added to the data.\n",
    "\n",
    "There is no true testing data set, but there is small set for human evaluation containig 10 pairs of negative/possitive triples. These pairs were made by removing negative triples from the initial dataset and editing them to become possitive. The triples were removed to ensure that the model has not been tained ot validated on this data."
   ]
  },
  {
   "cell_type": "markdown",
   "metadata": {},
   "source": [
    "#### Trainig classifiers\n"
   ]
  },
  {
   "cell_type": "code",
   "execution_count": 25,
   "metadata": {},
   "outputs": [],
   "source": [
    "import pandas as pd\n",
    "\n",
    "from sklearn.feature_extraction.text import TfidfVectorizer, CountVectorizer\n",
    "from sklearn import model_selection, naive_bayes, svm\n",
    "from sklearn.metrics import accuracy_score, f1_score, classification_report #precision_score, recall_score"
   ]
  },
  {
   "cell_type": "code",
   "execution_count": 47,
   "metadata": {},
   "outputs": [],
   "source": [
    "triple_data = pd.read_csv('data/train_triples.csv', names=['triple', 'label'])"
   ]
  },
  {
   "cell_type": "markdown",
   "metadata": {},
   "source": [
    "Lets see how the data."
   ]
  },
  {
   "cell_type": "code",
   "execution_count": 48,
   "metadata": {},
   "outputs": [
    {
     "data": {
      "text/html": [
       "<div>\n",
       "<style scoped>\n",
       "    .dataframe tbody tr th:only-of-type {\n",
       "        vertical-align: middle;\n",
       "    }\n",
       "\n",
       "    .dataframe tbody tr th {\n",
       "        vertical-align: top;\n",
       "    }\n",
       "\n",
       "    .dataframe thead th {\n",
       "        text-align: right;\n",
       "    }\n",
       "</style>\n",
       "<table border=\"1\" class=\"dataframe\">\n",
       "  <thead>\n",
       "    <tr style=\"text-align: right;\">\n",
       "      <th></th>\n",
       "      <th>triple</th>\n",
       "      <th>label</th>\n",
       "    </tr>\n",
       "  </thead>\n",
       "  <tbody>\n",
       "    <tr>\n",
       "      <th>0</th>\n",
       "      <td>luck can plot</td>\n",
       "      <td>0</td>\n",
       "    </tr>\n",
       "    <tr>\n",
       "      <th>1</th>\n",
       "      <td>use is period</td>\n",
       "      <td>0</td>\n",
       "    </tr>\n",
       "    <tr>\n",
       "      <th>2</th>\n",
       "      <td>sword is swordsmanship</td>\n",
       "      <td>0</td>\n",
       "    </tr>\n",
       "    <tr>\n",
       "      <th>3</th>\n",
       "      <td>system are size</td>\n",
       "      <td>0</td>\n",
       "    </tr>\n",
       "    <tr>\n",
       "      <th>4</th>\n",
       "      <td>spear is thrower</td>\n",
       "      <td>0</td>\n",
       "    </tr>\n",
       "    <tr>\n",
       "      <th>...</th>\n",
       "      <td>...</td>\n",
       "      <td>...</td>\n",
       "    </tr>\n",
       "    <tr>\n",
       "      <th>2058</th>\n",
       "      <td>light is interaction</td>\n",
       "      <td>0</td>\n",
       "    </tr>\n",
       "    <tr>\n",
       "      <th>2059</th>\n",
       "      <td>size be mass</td>\n",
       "      <td>0</td>\n",
       "    </tr>\n",
       "    <tr>\n",
       "      <th>2060</th>\n",
       "      <td>month has group</td>\n",
       "      <td>0</td>\n",
       "    </tr>\n",
       "    <tr>\n",
       "      <th>2061</th>\n",
       "      <td>problem be number</td>\n",
       "      <td>0</td>\n",
       "    </tr>\n",
       "    <tr>\n",
       "      <th>2062</th>\n",
       "      <td>dion had slave</td>\n",
       "      <td>0</td>\n",
       "    </tr>\n",
       "  </tbody>\n",
       "</table>\n",
       "<p>2063 rows × 2 columns</p>\n",
       "</div>"
      ],
      "text/plain": [
       "                      triple  label\n",
       "0              luck can plot      0\n",
       "1              use is period      0\n",
       "2     sword is swordsmanship      0\n",
       "3            system are size      0\n",
       "4           spear is thrower      0\n",
       "...                      ...    ...\n",
       "2058    light is interaction      0\n",
       "2059            size be mass      0\n",
       "2060         month has group      0\n",
       "2061       problem be number      0\n",
       "2062          dion had slave      0\n",
       "\n",
       "[2063 rows x 2 columns]"
      ]
     },
     "execution_count": 48,
     "metadata": {},
     "output_type": "execute_result"
    }
   ],
   "source": [
    "triple_data"
   ]
  },
  {
   "cell_type": "markdown",
   "metadata": {},
   "source": [
    "The labels correspond to negative example with label 0 and possitive exmple with label 1.\n",
    "\n",
    "The extraction method has high yeld, but with few possitive examples."
   ]
  },
  {
   "cell_type": "code",
   "execution_count": 49,
   "metadata": {},
   "outputs": [
    {
     "data": {
      "text/plain": [
       "0    1910\n",
       "1     153\n",
       "Name: label, dtype: int64"
      ]
     },
     "execution_count": 49,
     "metadata": {},
     "output_type": "execute_result"
    }
   ],
   "source": [
    "triple_data['label'].value_counts()"
   ]
  },
  {
   "cell_type": "markdown",
   "metadata": {},
   "source": [
    "As the data does not have train-test split it is possible to use the splitter from scikit. Testing multiple models with the same data makes the test split validation set.\n",
    "\n",
    "The split is 80/20 to maximize the number of possitive examples."
   ]
  },
  {
   "cell_type": "code",
   "execution_count": 5,
   "metadata": {},
   "outputs": [],
   "source": [
    "train_triples, validate_triples, train_labels, validate_labels = model_selection.train_test_split(triple_data['triple'], triple_data['label'], test_size=0.20)"
   ]
  },
  {
   "cell_type": "markdown",
   "metadata": {},
   "source": [
    "Lets make sure that the validation labels contain positive class labels."
   ]
  },
  {
   "cell_type": "code",
   "execution_count": 6,
   "metadata": {},
   "outputs": [
    {
     "data": {
      "text/plain": [
       "0    379\n",
       "1     34\n",
       "Name: label, dtype: int64"
      ]
     },
     "execution_count": 6,
     "metadata": {},
     "output_type": "execute_result"
    }
   ],
   "source": [
    "validate_labels.value_counts()"
   ]
  },
  {
   "cell_type": "markdown",
   "metadata": {},
   "source": [
    "The triples column needs to be converted into vectors. Scikit learn offers Count Vectorizera and TF-IDF vectorizer. Lets test them and see who is able to help with the triples."
   ]
  },
  {
   "cell_type": "code",
   "execution_count": 7,
   "metadata": {},
   "outputs": [],
   "source": [
    "tfidf_vect = TfidfVectorizer()\n",
    "tfidf_vect.fit(triple_data['triple'])\n",
    "train_triple_tfidf = tfidf_vect.transform(train_triples)\n",
    "validate_triple_tfidf = tfidf_vect.transform(validate_triples)"
   ]
  },
  {
   "cell_type": "code",
   "execution_count": 8,
   "metadata": {},
   "outputs": [],
   "source": [
    "count_vect = CountVectorizer()\n",
    "count_vect.fit(triple_data['triple'])\n",
    "train_triple_count = count_vect.transform(train_triples)\n",
    "validate_triple_count = count_vect.transform(validate_triples)"
   ]
  },
  {
   "cell_type": "code",
   "execution_count": 9,
   "metadata": {},
   "outputs": [
    {
     "name": "stdout",
     "output_type": "stream",
     "text": [
      "  (0, 1452)\t0.5735386140944267\n",
      "  (0, 380)\t0.6255158062866324\n",
      "  (0, 119)\t0.5289455872093353\n",
      "  (1, 1344)\t0.5985091829588916\n",
      "  (1, 205)\t0.8011159453623927\n",
      "  (2, 372)\t0.6444235080799443\n",
      "  (2, 117)\t0.3685205735582747\n",
      "  (2, 19)\t0.6700081559938044\n",
      "  (3, 1389)\t0.598176134792705\n",
      "  (3, 947)\t0.6833627921239789\n",
      "  (3, 611)\t0.41856971474890436\n",
      "  (4, 568)\t0.716404371262967\n",
      "  (4, 186)\t0.6359747460045079\n",
      "  (4, 68)\t0.2868813330975282\n",
      "  (5, 1004)\t0.6747731595054057\n",
      "  (5, 710)\t0.2489062186913345\n",
      "  (5, 145)\t0.6947854902830612\n",
      "  (6, 1501)\t0.3353780766423881\n",
      "  (6, 1389)\t0.6445582049628327\n",
      "  (6, 625)\t0.687070786835493\n",
      "  (7, 1321)\t0.6191787340024916\n",
      "  (7, 963)\t0.6819187539060186\n",
      "  (7, 611)\t0.3893642361983631\n",
      "  (8, 1501)\t0.29870100432599034\n",
      "  (8, 614)\t0.6009335804991323\n",
      "  :\t:\n",
      "  (11, 1306)\t0.953957094393142\n",
      "  (11, 611)\t0.2999430980319334\n",
      "  (12, 860)\t0.734768133234705\n",
      "  (12, 618)\t0.3865557138688791\n",
      "  (12, 438)\t0.5573961521737552\n",
      "  (13, 653)\t0.6437970608463044\n",
      "  (13, 117)\t0.37986010889667665\n",
      "  (13, 37)\t0.664252694473018\n",
      "  (14, 1294)\t0.597810420893382\n",
      "  (14, 915)\t0.7609183292411268\n",
      "  (14, 710)\t0.25224194119172505\n",
      "  (15, 1460)\t0.7279786267495546\n",
      "  (15, 1294)\t0.492789234444249\n",
      "  (15, 119)\t0.476661189328105\n",
      "  (16, 1501)\t0.29449664573929074\n",
      "  (16, 862)\t0.6156132231161294\n",
      "  (16, 217)\t0.7309528611154602\n",
      "  (17, 1515)\t0.365968481973739\n",
      "  (17, 826)\t0.6451220252980728\n",
      "  (17, 465)\t0.6707344054669849\n",
      "  (18, 1004)\t0.9382052152931454\n",
      "  (18, 710)\t0.3460794330738868\n",
      "  (19, 800)\t0.7127241891230885\n",
      "  (19, 611)\t0.4231103382968996\n",
      "  (19, 553)\t0.5594657021347412\n"
     ]
    }
   ],
   "source": [
    "print(train_triple_tfidf[:20])"
   ]
  },
  {
   "cell_type": "code",
   "execution_count": 10,
   "metadata": {},
   "outputs": [
    {
     "name": "stdout",
     "output_type": "stream",
     "text": [
      "  (0, 119)\t1\n",
      "  (0, 380)\t1\n",
      "  (0, 1452)\t1\n",
      "  (1, 205)\t1\n",
      "  (1, 1344)\t1\n",
      "  (2, 19)\t1\n",
      "  (2, 117)\t1\n",
      "  (2, 372)\t1\n",
      "  (3, 611)\t1\n",
      "  (3, 947)\t1\n",
      "  (3, 1389)\t1\n",
      "  (4, 68)\t1\n",
      "  (4, 186)\t1\n",
      "  (4, 568)\t1\n",
      "  (5, 145)\t1\n",
      "  (5, 710)\t1\n",
      "  (5, 1004)\t1\n",
      "  (6, 625)\t1\n",
      "  (6, 1389)\t1\n",
      "  (6, 1501)\t1\n",
      "  (7, 611)\t1\n",
      "  (7, 963)\t1\n",
      "  (7, 1321)\t1\n",
      "  (8, 581)\t1\n",
      "  (8, 614)\t1\n",
      "  :\t:\n",
      "  (11, 611)\t1\n",
      "  (11, 1306)\t2\n",
      "  (12, 438)\t1\n",
      "  (12, 618)\t1\n",
      "  (12, 860)\t1\n",
      "  (13, 37)\t1\n",
      "  (13, 117)\t1\n",
      "  (13, 653)\t1\n",
      "  (14, 710)\t1\n",
      "  (14, 915)\t1\n",
      "  (14, 1294)\t1\n",
      "  (15, 119)\t1\n",
      "  (15, 1294)\t1\n",
      "  (15, 1460)\t1\n",
      "  (16, 217)\t1\n",
      "  (16, 862)\t1\n",
      "  (16, 1501)\t1\n",
      "  (17, 465)\t1\n",
      "  (17, 826)\t1\n",
      "  (17, 1515)\t1\n",
      "  (18, 710)\t1\n",
      "  (18, 1004)\t1\n",
      "  (19, 553)\t1\n",
      "  (19, 611)\t1\n",
      "  (19, 800)\t1\n"
     ]
    }
   ],
   "source": [
    "print(train_triple_count[:20])"
   ]
  },
  {
   "cell_type": "markdown",
   "metadata": {},
   "source": [
    "Looks like the count vectorizer returns only one score and the TF-IDF returns meaningful calculations."
   ]
  },
  {
   "cell_type": "markdown",
   "metadata": {},
   "source": [
    "Having the triples as vectors it is time to train some moddels. The training set will be fitted on four classifiers - Naive Bayes and SVM with 3 types of kernel: linear (), rbf and polynomial ()."
   ]
  },
  {
   "cell_type": "code",
   "execution_count": 11,
   "metadata": {},
   "outputs": [],
   "source": [
    "naive = naive_bayes.MultinomialNB()\n",
    "naive.fit(train_triple_tfidf, train_labels)\n",
    "predictions_NB = naive.predict(validate_triple_tfidf)"
   ]
  },
  {
   "cell_type": "code",
   "execution_count": 12,
   "metadata": {},
   "outputs": [],
   "source": [
    "\n",
    "svm_lin = svm.SVC(C=1.0, kernel='linear', degree=3, gamma='auto')\n",
    "svm_lin.fit(train_triple_tfidf, train_labels)\n",
    "predictions_SVM = svm_lin.predict(validate_triple_tfidf)"
   ]
  },
  {
   "cell_type": "code",
   "execution_count": 13,
   "metadata": {},
   "outputs": [],
   "source": [
    "rbf_svm = svm.SVC(kernel='rbf', gamma=0.5, C=1.0)\n",
    "rbf_svm.fit(train_triple_tfidf, train_labels)\n",
    "rbf_pred = rbf_svm.predict(validate_triple_tfidf)"
   ]
  },
  {
   "cell_type": "code",
   "execution_count": 14,
   "metadata": {},
   "outputs": [],
   "source": [
    "poly_svm = svm.SVC(kernel='poly', degree=3, C=1)\n",
    "poly_svm.fit(train_triple_tfidf, train_labels)\n",
    "poly_pred = poly_svm.predict(validate_triple_tfidf)"
   ]
  },
  {
   "cell_type": "markdown",
   "metadata": {},
   "source": [
    "#### Classifier scoring"
   ]
  },
  {
   "cell_type": "markdown",
   "metadata": {},
   "source": [
    "The metrics of accuracy and F1 are the most commonly used when working with supervised machne learning."
   ]
  },
  {
   "cell_type": "code",
   "execution_count": 15,
   "metadata": {},
   "outputs": [
    {
     "name": "stdout",
     "output_type": "stream",
     "text": [
      "Naive Bayes Accuracy Score ->  91.76755447941889\n",
      "Naive Bayes F1 Score ->  87.82803825176705\n",
      "SVM Linear Accuracy Score ->  91.52542372881356\n",
      "SVM Linear F1 Score ->  87.7070432192676\n",
      "SVM-RBF Accuracy Score ->  91.76755447941889\n",
      "SVM-RBF F1 Score ->  87.82803825176705\n",
      "SVM-POLY Accuracy Score ->  91.76755447941889\n",
      "SVM-POLY F1 Score ->  87.82803825176705\n"
     ]
    }
   ],
   "source": [
    "print(\"Naive Bayes Accuracy Score -> \", accuracy_score(validate_labels, predictions_NB )*100)\n",
    "print(\"Naive Bayes F1 Score -> \", f1_score(validate_labels, predictions_NB, average='weighted')*100)\n",
    "\n",
    "print(\"SVM Linear Accuracy Score -> \", accuracy_score(validate_labels, predictions_SVM)*100)\n",
    "print(\"SVM Linear F1 Score -> \", f1_score(validate_labels, predictions_SVM, average='weighted')*100)\n",
    "\n",
    "print(\"SVM-RBF Accuracy Score -> \", accuracy_score(validate_labels, rbf_pred)*100)\n",
    "print(\"SVM-RBF F1 Score -> \", f1_score(validate_labels, rbf_pred, average='weighted')*100)\n",
    "\n",
    "print(\"SVM-POLY Accuracy Score -> \", accuracy_score(validate_labels, poly_pred)*100)\n",
    "print(\"SVM-POLY F1 Score -> \", f1_score(validate_labels, poly_pred, average='weighted')*100)"
   ]
  },
  {
   "cell_type": "markdown",
   "metadata": {},
   "source": [
    "Looks like the linear SVM model is slightly worse than other models. With so little data the rest of the models work exactly the same. "
   ]
  },
  {
   "cell_type": "markdown",
   "metadata": {},
   "source": [
    "#### Classifier evaluation"
   ]
  },
  {
   "cell_type": "markdown",
   "metadata": {},
   "source": [
    "Scoring is informative, but lets test it with new data and see the results."
   ]
  },
  {
   "cell_type": "code",
   "execution_count": 17,
   "metadata": {},
   "outputs": [],
   "source": [
    "manual_eval = pd.read_csv('data/triple_pairs.csv', names=['triple', 'label'])"
   ]
  },
  {
   "cell_type": "code",
   "execution_count": 18,
   "metadata": {},
   "outputs": [],
   "source": [
    "me_triples = manual_eval['triple']"
   ]
  },
  {
   "cell_type": "code",
   "execution_count": 43,
   "metadata": {},
   "outputs": [],
   "source": [
    "predict_triples_tfidf = tfidf_vect.transform(me_triples)"
   ]
  },
  {
   "cell_type": "code",
   "execution_count": 20,
   "metadata": {},
   "outputs": [],
   "source": [
    "new_predictions_SVM = rbf_svm.predict(predict_triples_tfidf)"
   ]
  },
  {
   "cell_type": "code",
   "execution_count": 21,
   "metadata": {},
   "outputs": [],
   "source": [
    "new_predictions_NB = naive.predict(predict_triples_tfidf)"
   ]
  },
  {
   "cell_type": "code",
   "execution_count": 22,
   "metadata": {},
   "outputs": [],
   "source": [
    "manual_eval['nb'] = new_predictions_NB\n",
    "manual_eval['svm'] = new_predictions_SVM"
   ]
  },
  {
   "cell_type": "code",
   "execution_count": 23,
   "metadata": {},
   "outputs": [
    {
     "data": {
      "text/html": [
       "<div>\n",
       "<style scoped>\n",
       "    .dataframe tbody tr th:only-of-type {\n",
       "        vertical-align: middle;\n",
       "    }\n",
       "\n",
       "    .dataframe tbody tr th {\n",
       "        vertical-align: top;\n",
       "    }\n",
       "\n",
       "    .dataframe thead th {\n",
       "        text-align: right;\n",
       "    }\n",
       "</style>\n",
       "<table border=\"1\" class=\"dataframe\">\n",
       "  <thead>\n",
       "    <tr style=\"text-align: right;\">\n",
       "      <th></th>\n",
       "      <th>triple</th>\n",
       "      <th>label</th>\n",
       "      <th>nb</th>\n",
       "      <th>svm</th>\n",
       "    </tr>\n",
       "  </thead>\n",
       "  <tbody>\n",
       "    <tr>\n",
       "      <th>0</th>\n",
       "      <td>age had horse</td>\n",
       "      <td>0</td>\n",
       "      <td>0</td>\n",
       "      <td>0</td>\n",
       "    </tr>\n",
       "    <tr>\n",
       "      <th>1</th>\n",
       "      <td>horse has age</td>\n",
       "      <td>1</td>\n",
       "      <td>0</td>\n",
       "      <td>0</td>\n",
       "    </tr>\n",
       "    <tr>\n",
       "      <th>2</th>\n",
       "      <td>maple have leave</td>\n",
       "      <td>0</td>\n",
       "      <td>0</td>\n",
       "      <td>0</td>\n",
       "    </tr>\n",
       "    <tr>\n",
       "      <th>3</th>\n",
       "      <td>maple have leaf</td>\n",
       "      <td>1</td>\n",
       "      <td>0</td>\n",
       "      <td>0</td>\n",
       "    </tr>\n",
       "    <tr>\n",
       "      <th>4</th>\n",
       "      <td>mountain are summit</td>\n",
       "      <td>0</td>\n",
       "      <td>0</td>\n",
       "      <td>0</td>\n",
       "    </tr>\n",
       "    <tr>\n",
       "      <th>5</th>\n",
       "      <td>mountain has summit</td>\n",
       "      <td>1</td>\n",
       "      <td>0</td>\n",
       "      <td>0</td>\n",
       "    </tr>\n",
       "    <tr>\n",
       "      <th>6</th>\n",
       "      <td>culture is proto-indo-europeans</td>\n",
       "      <td>0</td>\n",
       "      <td>0</td>\n",
       "      <td>0</td>\n",
       "    </tr>\n",
       "    <tr>\n",
       "      <th>7</th>\n",
       "      <td>culture is proto-indo-european</td>\n",
       "      <td>1</td>\n",
       "      <td>0</td>\n",
       "      <td>0</td>\n",
       "    </tr>\n",
       "    <tr>\n",
       "      <th>8</th>\n",
       "      <td>sword are thrusting</td>\n",
       "      <td>0</td>\n",
       "      <td>0</td>\n",
       "      <td>0</td>\n",
       "    </tr>\n",
       "    <tr>\n",
       "      <th>9</th>\n",
       "      <td>sword is thrusting</td>\n",
       "      <td>1</td>\n",
       "      <td>0</td>\n",
       "      <td>0</td>\n",
       "    </tr>\n",
       "    <tr>\n",
       "      <th>10</th>\n",
       "      <td>vehicle having wheel</td>\n",
       "      <td>0</td>\n",
       "      <td>0</td>\n",
       "      <td>0</td>\n",
       "    </tr>\n",
       "    <tr>\n",
       "      <th>11</th>\n",
       "      <td>vehicle have wheel</td>\n",
       "      <td>1</td>\n",
       "      <td>0</td>\n",
       "      <td>0</td>\n",
       "    </tr>\n",
       "    <tr>\n",
       "      <th>12</th>\n",
       "      <td>chainmail is type</td>\n",
       "      <td>0</td>\n",
       "      <td>0</td>\n",
       "      <td>0</td>\n",
       "    </tr>\n",
       "    <tr>\n",
       "      <th>13</th>\n",
       "      <td>chainmail is armor</td>\n",
       "      <td>1</td>\n",
       "      <td>0</td>\n",
       "      <td>0</td>\n",
       "    </tr>\n",
       "    <tr>\n",
       "      <th>14</th>\n",
       "      <td>power is surge</td>\n",
       "      <td>0</td>\n",
       "      <td>0</td>\n",
       "      <td>0</td>\n",
       "    </tr>\n",
       "    <tr>\n",
       "      <th>15</th>\n",
       "      <td>power can surge</td>\n",
       "      <td>1</td>\n",
       "      <td>0</td>\n",
       "      <td>0</td>\n",
       "    </tr>\n",
       "    <tr>\n",
       "      <th>16</th>\n",
       "      <td>piano is keyboard</td>\n",
       "      <td>0</td>\n",
       "      <td>0</td>\n",
       "      <td>0</td>\n",
       "    </tr>\n",
       "    <tr>\n",
       "      <th>17</th>\n",
       "      <td>piano has keyboard</td>\n",
       "      <td>1</td>\n",
       "      <td>0</td>\n",
       "      <td>0</td>\n",
       "    </tr>\n",
       "    <tr>\n",
       "      <th>18</th>\n",
       "      <td>earthquake was epicenter</td>\n",
       "      <td>0</td>\n",
       "      <td>0</td>\n",
       "      <td>0</td>\n",
       "    </tr>\n",
       "    <tr>\n",
       "      <th>19</th>\n",
       "      <td>earthquake has epicenter</td>\n",
       "      <td>1</td>\n",
       "      <td>0</td>\n",
       "      <td>0</td>\n",
       "    </tr>\n",
       "  </tbody>\n",
       "</table>\n",
       "</div>"
      ],
      "text/plain": [
       "                             triple  label  nb  svm\n",
       "0                     age had horse      0   0    0\n",
       "1                     horse has age      1   0    0\n",
       "2                  maple have leave      0   0    0\n",
       "3                   maple have leaf      1   0    0\n",
       "4               mountain are summit      0   0    0\n",
       "5               mountain has summit      1   0    0\n",
       "6   culture is proto-indo-europeans      0   0    0\n",
       "7    culture is proto-indo-european      1   0    0\n",
       "8               sword are thrusting      0   0    0\n",
       "9                sword is thrusting      1   0    0\n",
       "10             vehicle having wheel      0   0    0\n",
       "11               vehicle have wheel      1   0    0\n",
       "12                chainmail is type      0   0    0\n",
       "13               chainmail is armor      1   0    0\n",
       "14                   power is surge      0   0    0\n",
       "15                  power can surge      1   0    0\n",
       "16                piano is keyboard      0   0    0\n",
       "17               piano has keyboard      1   0    0\n",
       "18         earthquake was epicenter      0   0    0\n",
       "19         earthquake has epicenter      1   0    0"
      ]
     },
     "execution_count": 23,
     "metadata": {},
     "output_type": "execute_result"
    }
   ],
   "source": [
    "manual_eval"
   ]
  },
  {
   "cell_type": "markdown",
   "metadata": {},
   "source": [
    "The models predict only the negative class. Maybe a classifiacation report will help with expainability."
   ]
  },
  {
   "cell_type": "code",
   "execution_count": 24,
   "metadata": {},
   "outputs": [
    {
     "name": "stdout",
     "output_type": "stream",
     "text": [
      "              precision    recall  f1-score   support\n",
      "\n",
      "           0       0.93      1.00      0.96      1531\n",
      "           1       1.00      0.03      0.07       119\n",
      "\n",
      "    accuracy                           0.93      1650\n",
      "   macro avg       0.97      0.52      0.51      1650\n",
      "weighted avg       0.94      0.93      0.90      1650\n",
      "\n"
     ]
    }
   ],
   "source": [
    "train_test = rbf_svm.predict(train_triple_tfidf)\n",
    "print(classification_report(train_labels, train_test))"
   ]
  },
  {
   "cell_type": "markdown",
   "metadata": {},
   "source": [
    "As expected the low number of possitive triples affects the recall of the models."
   ]
  },
  {
   "cell_type": "markdown",
   "metadata": {},
   "source": [
    "## Conlusion\n",
    "\n",
    "It seems that the model learns the negative class.\n",
    "\n",
    "The task comes after a highly productive extraction methos that results in low amount of positive examlples.\n",
    "\n",
    "The nature of the task is such that new data can be added, but the ratio of possitive examples will remain around 10% from the total number of extracted triples."
   ]
  },
  {
   "cell_type": "markdown",
   "metadata": {},
   "source": [
    "## References\n",
    "[Naive Bayes](https://en.wikipedia.org/wiki/Naive_Bayes_classifier)\n",
    "\n",
    "[SVM](https://en.wikipedia.org/wiki/Support_vector_machine)\n",
    "\n",
    "[Text classification with SVM](https://medium.com/@bedigunjit/simple-guide-to-text-classification-nlp-using-svm-and-naive-bayes-with-python-421db3a72d34)\n",
    "\n",
    "[SVM multyclass classification](https://www.baeldung.com/cs/svm-multiclass-classification)\n"
   ]
  }
 ],
 "metadata": {
  "kernelspec": {
   "display_name": "base",
   "language": "python",
   "name": "python3"
  },
  "language_info": {
   "codemirror_mode": {
    "name": "ipython",
    "version": 3
   },
   "file_extension": ".py",
   "mimetype": "text/x-python",
   "name": "python",
   "nbconvert_exporter": "python",
   "pygments_lexer": "ipython3",
   "version": "3.10.9"
  }
 },
 "nbformat": 4,
 "nbformat_minor": 2
}
